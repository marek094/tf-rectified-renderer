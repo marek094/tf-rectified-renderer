{
 "cells": [
  {
   "cell_type": "code",
   "execution_count": 1,
   "metadata": {},
   "outputs": [
    {
     "data": {
      "text/plain": [
       "True"
      ]
     },
     "execution_count": 1,
     "metadata": {},
     "output_type": "execute_result"
    }
   ],
   "source": [
    "import tensorflow as tf\n",
    "\n",
    "tf.enable_eager_execution()\n",
    "tf.executing_eagerly()"
   ]
  },
  {
   "cell_type": "code",
   "execution_count": 2,
   "metadata": {},
   "outputs": [
    {
     "data": {
      "text/plain": [
       "(array([[0.5488135 , 0.71518934, 0.60276335],\n",
       "        [0.5448832 , 0.4236548 , 0.6458941 ],\n",
       "        [0.4375872 , 0.891773  , 0.96366274],\n",
       "        [0.3834415 , 0.79172504, 0.5288949 ],\n",
       "        [0.56804454, 0.92559665, 0.07103606],\n",
       "        [0.0871293 , 0.0202184 , 0.83261985],\n",
       "        [0.77815676, 0.87001216, 0.9786183 ],\n",
       "        [0.7991586 , 0.46147937, 0.7805292 ],\n",
       "        [0.11827443, 0.639921  , 0.14335328],\n",
       "        [0.9446689 , 0.5218483 , 0.41466194]], dtype=float32),\n",
       " array([[0.2645556 , 0.7742337 , 0.45615032],\n",
       "        [0.56843394, 0.0187898 , 0.6176355 ],\n",
       "        [0.6120957 , 0.616934  , 0.94374806],\n",
       "        [0.6818203 , 0.3595079 , 0.43703195],\n",
       "        [0.6976312 , 0.06022547, 0.6667667 ],\n",
       "        [0.67063785, 0.21038257, 0.12892629],\n",
       "        [0.31542835, 0.36371076, 0.57019675],\n",
       "        [0.43860152, 0.9883738 , 0.10204481],\n",
       "        [0.20887676, 0.16130951, 0.6531083 ],\n",
       "        [0.2532916 , 0.46631077, 0.2444256 ]], dtype=float32),\n",
       " array([7, 5, 5, 0, 1, 5, 9, 3, 0, 5], dtype=int32))"
      ]
     },
     "execution_count": 2,
     "metadata": {},
     "output_type": "execute_result"
    }
   ],
   "source": [
    "from test_in_training import get_data, composed, composed_new\n",
    "lf, rf, hi = get_data()\n",
    "\n",
    "# sess.run([lf, rf, hi])\n",
    "lf.numpy(), rf.numpy(), hi.numpy()"
   ]
  },
  {
   "cell_type": "code",
   "execution_count": 5,
   "metadata": {
    "scrolled": true
   },
   "outputs": [
    {
     "data": {
      "text/plain": [
       "<tf.Tensor: id=24, shape=(10,), dtype=float32, numpy=\n",
       "array([2.3055573 , 0.6994027 , 0.        , 1.0093604 , 0.        ,\n",
       "       3.3152916 , 0.        , 0.8551689 , 0.        , 0.52448887],\n",
       "      dtype=float32)>"
      ]
     },
     "execution_count": 5,
     "metadata": {},
     "output_type": "execute_result"
    }
   ],
   "source": [
    "index = tf.multiply(tf.IndexedSlices(rf, hi, dense_shape=hi.shape), lf)\n",
    "index = tf.square(tf.reduce_sum(index, axis=1))\n",
    "# sess.run(index)\n",
    "index"
   ]
  },
  {
   "cell_type": "code",
   "execution_count": null,
   "metadata": {},
   "outputs": [],
   "source": [
    "index2 = tf.square(tf.reduce_sum(tf.multiply(tf.gather(rf, hi), lf), axis=1))\n",
    "sess.run(index2)"
   ]
  },
  {
   "cell_type": "code",
   "execution_count": null,
   "metadata": {},
   "outputs": [],
   "source": [
    "sess.run(composed_new(lf, rf, hi))"
   ]
  },
  {
   "cell_type": "code",
   "execution_count": null,
   "metadata": {
    "scrolled": true
   },
   "outputs": [],
   "source": [
    "output = tf.placeholder('float', shape=[10, 3])\n",
    "# dummy variable initialization\n",
    "var_output = tf.Variable(initial_value=[[0]*3]*10, dtype=tf.float32)\n",
    "print(var_output.shape)\n",
    "\n",
    "tf.square(tf.reduce_sum(tf.multiply(\n",
    "    tf.scatter_update(var_output,hi,rf), lf), axis=1))\n",
    "sess.run(var_output)"
   ]
  },
  {
   "cell_type": "code",
   "execution_count": 32,
   "metadata": {},
   "outputs": [
    {
     "data": {
      "text/plain": [
       "array([400, 300, 200, 100,  99,  88], dtype=int32)"
      ]
     },
     "execution_count": 32,
     "metadata": {},
     "output_type": "execute_result"
    }
   ],
   "source": [
    "v = tf.convert_to_tensor([88,99,100,200,300,400])\n",
    "i = tf.convert_to_tensor([5,4,3,2,1,0])\n",
    "r = tf.IndexedSlices(v,i, i.shape)\n",
    "tf.multiply(r, tf.ones_like(r)).numpy()"
   ]
  },
  {
   "cell_type": "code",
   "execution_count": null,
   "metadata": {},
   "outputs": [],
   "source": []
  }
 ],
 "metadata": {
  "kernelspec": {
   "display_name": "Python 3",
   "language": "python",
   "name": "python3"
  },
  "language_info": {
   "codemirror_mode": {
    "name": "ipython",
    "version": 3
   },
   "file_extension": ".py",
   "mimetype": "text/x-python",
   "name": "python",
   "nbconvert_exporter": "python",
   "pygments_lexer": "ipython3",
   "version": "3.6.8"
  }
 },
 "nbformat": 4,
 "nbformat_minor": 2
}
