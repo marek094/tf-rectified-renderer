{
 "cells": [
  {
   "cell_type": "code",
   "execution_count": 1,
   "metadata": {},
   "outputs": [
    {
     "data": {
      "text/plain": [
       "True"
      ]
     },
     "execution_count": 1,
     "metadata": {},
     "output_type": "execute_result"
    }
   ],
   "source": [
    "from pathlib import Path\n",
    "import matplotlib.pyplot as plt\n",
    "from skimage.io import imread\n",
    "import numpy as np\n",
    "\n",
    "import tensorflow as tf\n",
    "tf.enable_eager_execution()\n",
    "tf.executing_eagerly()"
   ]
  },
  {
   "cell_type": "code",
   "execution_count": 2,
   "metadata": {},
   "outputs": [
    {
     "data": {
      "text/plain": [
       "<matplotlib.image.AxesImage at 0x7fce5ebe2f98>"
      ]
     },
     "execution_count": 2,
     "metadata": {},
     "output_type": "execute_result"
    },
    {
     "data": {
      "image/png": "[encoded data removed]",
      "text/plain": [
       "<Figure size 432x288 with 1 Axes>"
      ]
     },
     "metadata": {
      "needs_background": "light"
     },
     "output_type": "display_data"
    }
   ],
   "source": [
    "import sys; sys.path.append(str(Path.home()))\n",
    "\n",
    "N = 16\n",
    "def image_gen():\n",
    "    colors = [np.array([int(x) for x in f'{b:03b}']) for b in range(8)]\n",
    "    # print(colors)\n",
    "    n, d = N, 1\n",
    "    image = np.zeros((5, n, n, 3))\n",
    "    for y in range(n):\n",
    "        for x in range(n):\n",
    "            image[0, y, x#(x+2*y)%n\n",
    "                 ] = colors[(x+1) % 8] * 255\n",
    "    return image.astype(np.uint8)\n",
    "\n",
    "def rescale(img, m=32):\n",
    "    b, h, w, c = np.array(img.shape) \n",
    "    res = np.empty((b, h*m, w*m, c))\n",
    "    for k in range(b):\n",
    "        for i in range(h):\n",
    "            for j in range(w):\n",
    "                res[k, i*m:i*m+m, j*m:j*m+m] = img[k, i, j]\n",
    "    return res\n",
    "\n",
    "img = tf.convert_to_tensor(rescale(image_gen(), m=1).astype(np.float32))\n",
    "# img = tf.expand_dims(img, 0)\n",
    "plt.imshow(img[0]/255)"
   ]
  },
  {
   "cell_type": "code",
   "execution_count": 3,
   "metadata": {
    "scrolled": true
   },
   "outputs": [
    {
     "data": {
      "text/plain": [
       "array([[1.1480393e+00, 6.9135392e-01, 1.0562427e+00, 1.6109462e+00,\n",
       "        4.3121675e-01, 1.3203492e+00, 6.2051952e-01, 1.6347953e+00,\n",
       "        9.2409968e-01, 6.8821132e-01, 1.7827611e+00, 1.0018167e+00,\n",
       "        7.6955724e-01, 9.7148287e-01, 1.8162906e+00, 1.3642888e+00],\n",
       "       [1.3656815e+00, 1.3133861e-01, 5.5027145e-01, 3.4851652e-01,\n",
       "        8.9841491e-01, 1.8227767e+00, 1.6781632e+00, 1.6110454e+00,\n",
       "        4.0083545e-01, 1.5560089e+00, 1.2931980e+00, 1.5705398e+00,\n",
       "        1.5610127e+00, 3.3633819e-01, 1.9015585e+00, 4.1953459e-01],\n",
       "       [9.0997612e-01, 6.0378814e-01, 1.2819012e+00, 1.4275315e-01,\n",
       "        7.7923691e-01, 1.2259659e-03, 4.4117853e-01, 8.9809525e-01,\n",
       "        6.6493857e-01, 1.8245572e+00, 1.1023884e+00, 6.7473106e-02,\n",
       "        1.2750434e+00, 1.2493479e+00, 1.5433123e+00, 4.0128124e-01],\n",
       "       [1.0169502e+00, 1.3675882e+00, 1.4071866e+00, 1.5062922e+00,\n",
       "        1.1013454e+00, 1.5085236e+00, 7.7826089e-01, 1.3687292e+00,\n",
       "        1.1880808e+00, 1.6660675e+00, 8.0263841e-01, 1.4024930e+00,\n",
       "        4.5048979e-01, 3.3761525e-01, 1.3679518e+00, 9.7428012e-01],\n",
       "       [1.6338422e+00, 3.3849132e-01, 9.9746549e-01, 8.6810201e-01,\n",
       "        7.5854039e-01, 1.6033285e+00, 1.7946669e+00, 2.9968416e-02,\n",
       "        1.3930786e+00, 4.6728531e-01, 1.8840673e+00, 1.9726299e+00,\n",
       "        1.0077873e+00, 1.3232327e+00, 1.1523021e+00, 1.3390980e+00],\n",
       "       [1.4750091e+00, 1.1556921e+00, 1.6030470e+00, 5.4689115e-01,\n",
       "        1.6963772e+00, 7.9183286e-01, 1.5704324e+00, 2.6087663e-01,\n",
       "        4.9004275e-01, 1.9499962e+00, 1.5299232e+00, 9.4406617e-01,\n",
       "        4.6773815e-01, 1.8503808e+00, 1.7190919e+00, 1.4490714e+00],\n",
       "       [1.0194854e+00, 1.5148603e+00, 4.1393018e-01, 6.7110553e-02,\n",
       "        8.0831653e-01, 1.5572507e+00, 1.1729676e+00, 1.2556993e+00,\n",
       "        1.8524709e+00, 3.9194319e-01, 1.4816362e+00, 9.6584409e-01,\n",
       "        3.4184438e-01, 7.7432412e-01, 5.5432832e-01, 1.8267246e+00],\n",
       "       [1.8722612e+00, 7.8136039e-01, 1.2405062e+00, 1.6411085e+00,\n",
       "        1.4735202e+00, 1.6350389e+00, 1.8120031e+00, 3.2568192e-01,\n",
       "        4.2295530e-01, 1.3290074e+00, 1.8508966e+00, 1.5709645e+00,\n",
       "        1.2228979e+00, 1.7989442e+00, 1.4301727e+00, 9.3204647e-01],\n",
       "       [1.4350421e+00, 5.2638316e-01, 1.2672147e+00, 1.3806295e-01,\n",
       "        1.8248535e+00, 1.4228359e+00, 1.5063710e+00, 7.0087755e-01,\n",
       "        1.4983761e+00, 1.7944818e+00, 8.7920105e-01, 1.8076190e+00,\n",
       "        7.9093915e-01, 5.6504482e-01, 1.9736818e+00, 1.2902404e+00],\n",
       "       [1.1423844e+00, 1.1995049e+00, 1.0988572e+00, 1.6753742e+00,\n",
       "        1.4496571e+00, 1.3070980e-01, 1.9653294e+00, 7.9588598e-01,\n",
       "        4.3051603e-01, 1.4191157e+00, 2.9127631e-01, 1.0199977e+00,\n",
       "        1.5056548e-01, 1.8843218e+00, 1.3539506e+00, 2.9760745e-01],\n",
       "       [1.7246197e+00, 1.6990703e-02, 7.1500695e-01, 8.4206849e-02,\n",
       "        1.5284045e+00, 1.8431965e+00, 4.0162498e-01, 1.3028257e+00,\n",
       "        1.3697802e+00, 1.4801599e+00, 1.8391786e+00, 9.2557830e-01,\n",
       "        1.3642236e+00, 1.7285489e+00, 1.9040738e-01, 1.2689681e+00],\n",
       "       [1.0229318e+00, 1.0695485e+00, 1.3031934e+00, 1.3151435e+00,\n",
       "        1.6194516e-01, 1.9806110e+00, 4.2696303e-01, 1.4726868e+00,\n",
       "        7.9509073e-01, 2.0894492e-01, 1.9904168e+00, 1.6462907e+00,\n",
       "        1.4249463e+00, 1.6686238e+00, 1.0128570e+00, 1.9132922e+00],\n",
       "       [7.4463087e-01, 1.7805314e+00, 1.0566262e+00, 1.5377922e+00,\n",
       "        1.4990654e+00, 1.1133778e+00, 1.0956359e+00, 1.7531137e+00,\n",
       "        1.2618631e+00, 1.0858538e+00, 4.2534044e-01, 1.0379922e+00,\n",
       "        3.8363901e-01, 8.5761952e-01, 1.0226110e+00, 2.8636795e-01],\n",
       "       [1.6300480e+00, 3.9997387e-01, 1.3444815e+00, 1.2004910e+00,\n",
       "        1.4510180e-01, 3.8379205e-03, 1.7952420e-01, 1.9891084e+00,\n",
       "        5.6846786e-01, 1.5049648e-01, 5.1997435e-01, 7.1301997e-01,\n",
       "        1.6374346e+00, 1.5085361e+00, 1.5944728e+00, 2.5886124e-02],\n",
       "       [1.7567368e+00, 4.2257234e-01, 1.8886395e+00, 1.4950975e+00,\n",
       "        1.6356238e+00, 8.4251797e-01, 8.9348263e-01, 7.3006228e-03,\n",
       "        1.5040648e+00, 1.9003943e+00, 1.9471781e+00, 1.7931029e+00,\n",
       "        6.7144179e-01, 1.4652162e+00, 1.4015261e+00, 6.1278749e-01],\n",
       "       [8.1438988e-01, 5.3469223e-01, 8.4039426e-01, 1.4573634e+00,\n",
       "        1.2555358e+00, 5.3202167e-02, 6.0710686e-01, 2.1817619e-01,\n",
       "        1.5605015e+00, 4.0102550e-01, 5.5926049e-01, 9.3893126e-02,\n",
       "        6.4275438e-01, 3.2760270e-02, 4.3686852e-01, 4.1622573e-01]],\n",
       "      dtype=float32)"
      ]
     },
     "execution_count": 3,
     "metadata": {},
     "output_type": "execute_result"
    }
   ],
   "source": [
    "arr = tf.convert_to_tensor((np.random.rand(*img.shape[:3], 1)*2).astype(np.float32))\n",
    "arr[0,...,0].numpy()"
   ]
  },
  {
   "cell_type": "code",
   "execution_count": 4,
   "metadata": {
    "scrolled": false
   },
   "outputs": [
    {
     "name": "stdout",
     "output_type": "stream",
     "text": [
      "(5, 16, 16, 3) (5, 16, 16, 1)\n",
      "<dtype: 'float32'> <dtype: 'float32'>\n",
      "int_floor\n"
     ]
    },
    {
     "data": {
      "text/plain": [
       "<matplotlib.image.AxesImage at 0x7fce5eb84ba8>"
      ]
     },
     "execution_count": 4,
     "metadata": {},
     "output_type": "execute_result"
    },
    {
     "data": {
      "image/png": "[encoded data removed]",
      "text/plain": [
       "<Figure size 432x288 with 1 Axes>"
      ]
     },
     "metadata": {
      "needs_background": "light"
     },
     "output_type": "display_data"
    }
   ],
   "source": [
    "from dense_image_warp import dense_image_warp\n",
    "print(img.shape, arr.shape)\n",
    "print(img.dtype, arr.dtype)\n",
    "warped0 = dense_image_warp(img, arr)\n",
    "plt.imshow(warped0[0]/255)"
   ]
  },
  {
   "cell_type": "code",
   "execution_count": 5,
   "metadata": {},
   "outputs": [
    {
     "name": "stdout",
     "output_type": "stream",
     "text": [
      "int_floor\n"
     ]
    },
    {
     "data": {
      "text/plain": [
       "<matplotlib.image.AxesImage at 0x7fce5eaf56d8>"
      ]
     },
     "execution_count": 5,
     "metadata": {},
     "output_type": "execute_result"
    },
    {
     "data": {
      "image/png": "[encoded data removed]",
      "text/plain": [
       "<Figure size 432x288 with 1 Axes>"
      ]
     },
     "metadata": {
      "needs_background": "light"
     },
     "output_type": "display_data"
    }
   ],
   "source": [
    "sys.path.append('/home/marek/emfnet')\n",
    "from bilinear_sampler import linear_sampler\n",
    "warped00 = linear_sampler(img, arr)\n",
    "plt.imshow(warped00[0]/255)"
   ]
  },
  {
   "cell_type": "code",
   "execution_count": 6,
   "metadata": {
    "scrolled": false
   },
   "outputs": [
    {
     "name": "stdout",
     "output_type": "stream",
     "text": [
      "W: (5, 16, 16) (1, 1, 16)\n",
      "H: (5, 16, 16) (1, 1, 16)\n",
      "B: (5, 16, 16) (1, 1, 16)\n",
      "@@@ [[   0    1    2    3    4    5    6    7    8    9   10   11   12   13\n",
      "    14   15]\n",
      " [ 256  257  258  259  260  261  262  263  264  265  266  267  268  269\n",
      "   270  271]\n",
      " [ 512  513  514  515  516  517  518  519  520  521  522  523  524  525\n",
      "   526  527]\n",
      " [ 768  769  770  771  772  773  774  775  776  777  778  779  780  781\n",
      "   782  783]\n",
      " [1024 1025 1026 1027 1028 1029 1030 1031 1032 1033 1034 1035 1036 1037\n",
      "  1038 1039]]\n",
      "(1280, 3) (1280, 1) (1280, 3)\n",
      "<dtype: 'float32'> <dtype: 'int32'> <dtype: 'float32'>\n",
      "W: (5, 16, 16) (1, 1, 16)\n",
      "H: (5, 16, 16) (1, 1, 16)\n",
      "B: (5, 16, 16) (1, 1, 16)\n",
      "@@@ [[   0    1    2    3    4    5    6    7    8    9   10   11   12   13\n",
      "    14   15]\n",
      " [ 256  257  258  259  260  261  262  263  264  265  266  267  268  269\n",
      "   270  271]\n",
      " [ 512  513  514  515  516  517  518  519  520  521  522  523  524  525\n",
      "   526  527]\n",
      " [ 768  769  770  771  772  773  774  775  776  777  778  779  780  781\n",
      "   782  783]\n",
      " [1024 1025 1026 1027 1028 1029 1030 1031 1032 1033 1034 1035 1036 1037\n",
      "  1038 1039]]\n",
      "(1280, 3) (1280, 1) (1280, 3)\n",
      "<dtype: 'float32'> <dtype: 'int32'> <dtype: 'float32'>\n",
      "W: (5, 16, 16) (1, 1, 16)\n",
      "H: (5, 16, 16) (1, 1, 16)\n",
      "B: (5, 16, 16) (1, 1, 16)\n",
      "@@@ [[   0    1    2    3    4    5    6    7    8    9   10   11   12   13\n",
      "    14   15]\n",
      " [ 256  257  258  259  260  261  262  263  264  265  266  267  268  269\n",
      "   270  271]\n",
      " [ 512  513  514  515  516  517  518  519  520  521  522  523  524  525\n",
      "   526  527]\n",
      " [ 768  769  770  771  772  773  774  775  776  777  778  779  780  781\n",
      "   782  783]\n",
      " [1024 1025 1026 1027 1028 1029 1030 1031 1032 1033 1034 1035 1036 1037\n",
      "  1038 1039]]\n",
      "(1280, 3) (1280, 1) (1280, 3)\n",
      "<dtype: 'float32'> <dtype: 'int32'> <dtype: 'float32'>\n",
      "(5, 16, 16, 3) <dtype: 'float32'>\n"
     ]
    },
    {
     "data": {
      "image/png": "[encoded data removed]",
      "text/plain": [
       "<Figure size 432x288 with 1 Axes>"
      ]
     },
     "metadata": {
      "needs_background": "light"
     },
     "output_type": "display_data"
    },
    {
     "data": {
      "image/png": "[encoded data removed]",
      "text/plain": [
       "<Figure size 432x288 with 1 Axes>"
      ]
     },
     "metadata": {
      "needs_background": "light"
     },
     "output_type": "display_data"
    }
   ],
   "source": [
    "def _impl_our_linear_warp(inputs, indices, indexed_inputs, deltas, name):\n",
    "#     print(indices.numpy())\n",
    "    def simple_corr(inputs, int_indices, indexed_inputs):\n",
    "#         print(int_indices.numpy())\n",
    "        b, h, w, c = inputs.shape\n",
    "        \n",
    "#         row = 0\n",
    "#         print(int_indices[0,row,:,0].numpy())\n",
    "#         bak = int_indices.numpy()\n",
    "#         int_indices = int_indices + tf.reshape(tf.range(w), [1, 1, w, 1])\n",
    "#         print(int_indices[0,row,:,0].numpy())\n",
    "#         print('D: ', (int_indices.numpy()-bak)[0,row,:,0])\n",
    "        \n",
    "        int_indices = tf.reshape(int_indices, [b, h, w])\n",
    "        \n",
    "        width_offsets  = tf.reshape(tf.range(w),     [1, 1, w])\n",
    "        height_offsets = tf.reshape(tf.range(h)*w,   [1, h, 1])\n",
    "        batch_offsets  = tf.reshape(tf.range(b)*h*w, [b, 1, 1])\n",
    "        \n",
    "        \n",
    "#         int_indices = tf.reshape(int_indices, [b, h, w])\n",
    "        \n",
    "        flatten_indices = tf.clip_by_value(width_offsets + int_indices, 0, w-1)\n",
    "        print('W:', flatten_indices.shape, width_offsets.shape)\n",
    "    \n",
    "    \n",
    "        flatten_indices = height_offsets + flatten_indices\n",
    "        print('H:', flatten_indices.shape, width_offsets.shape)\n",
    "        \n",
    "        flatten_indices = batch_offsets + flatten_indices\n",
    "                \n",
    "        print('B:', flatten_indices.shape, width_offsets.shape)\n",
    "        \n",
    "        print('@@@', (flatten_indices-int_indices).numpy()[...,0])\n",
    "        \n",
    "        \n",
    "        flatten_indices = tf.reshape(flatten_indices, [b*w*h, 1])\n",
    "        flatten_indexed_inputs = tf.reshape(indexed_inputs, [b*w*h, c])\n",
    "        flatten_inputs = tf.reshape(inputs, [b*w*h, c])\n",
    "        \n",
    "        \n",
    "        print(flatten_inputs.shape, flatten_indices.shape, flatten_indexed_inputs.shape)\n",
    "        print(flatten_inputs.dtype, flatten_indices.dtype, flatten_indexed_inputs.dtype)\n",
    "        if True:\n",
    "            warped_inputs = tf.gather(flatten_indexed_inputs, flatten_indices, [b*w*h])\n",
    "            return tf.reshape(warped_inputs, [b,h,w,c])\n",
    "            print('After')\n",
    "            warped_inputs = tf.reshape(warped_inputs, [b,h,w,c])\n",
    "            dots = tf.reduce_sum(tf.multiply(inputs, warped_inputs), axis=3, keepdims=True) \n",
    "        else:\n",
    "            dots = gather_corr(flatten_inputs, flatten_indexed_inputs, flatten_indices)\n",
    "        # print('@@', dots.shape)\n",
    "        return tf.reshape(dots, [b,h,w,1])\n",
    "\n",
    "    def clip(inputs, min_val, max_val):\n",
    "        return tf.minimum(tf.maximum(min_val, inputs), max_val)\n",
    "\n",
    "    b, h, w, c = inputs.get_shape().as_list()\n",
    "#     # clip to integers\n",
    "#     min_floor = tf.constant(0,   dtype=indices.dtype)\n",
    "#     max_floor = tf.constant(w-1, dtype=indices.dtype)\n",
    "#     print('M', min_floor, max_floor)\n",
    "#     floor_indices = clip(indices, max_floor, min_floor)\n",
    "    int_indices = tf.cast(indices, tf.int32)\n",
    "    floor_indices = tf.cast(int_indices, tf.float32)\n",
    "#     print(indices.numpy())\n",
    "    # alpha = x-[x]\n",
    "    min_alpha = tf.constant(0.0, dtype=inputs.dtype)\n",
    "    max_alpha = tf.constant(1.0, dtype=inputs.dtype)\n",
    "    alpha = tf.cast(clip(indices - floor_indices, min_alpha, max_alpha), inputs.dtype)\n",
    "    alpha = tf.reshape(alpha, [b, h, w, 1])\n",
    "\n",
    "    ext_deltas = np.append(deltas, deltas[-1]+1).astype(np.float32)\n",
    "#     print(ext_deltas)\n",
    "    corrs = [simple_corr(inputs, int_indices + d, indexed_inputs) for d in ext_deltas]\n",
    "\n",
    "    floor_corr = corrs[0]#tf.concat(corrs[:-1], axis=4)\n",
    "    ceil_corr = corrs[1]#tf.concat(corrs[1:], axis=4)\n",
    "    linear_interpolation = alpha * (ceil_corr - floor_corr) + floor_corr\n",
    "    return linear_interpolation\n",
    "\n",
    "deltas = np.array([0, 1])\n",
    "warped1 = _impl_our_linear_warp(img, \n",
    "#                       tf.clip_by_value(tf.cast(arr, tf.int32), 0, tf.cast(img.shape[2], tf.float32)), \n",
    "                        arr,\n",
    "                        img, deltas, name=\"d\")\n",
    "print(warped1.shape, arr.dtype)\n",
    "plt.imshow(warped1[0]/255); plt.show()\n",
    "plt.imshow(warped0[0]/255); plt.show()"
   ]
  },
  {
   "cell_type": "code",
   "execution_count": 7,
   "metadata": {},
   "outputs": [
    {
     "data": {
      "text/plain": [
       "<tf.Tensor: id=431, shape=(5, 16, 16), dtype=float32, numpy=\n",
       "array([[[1., 0., 1., ..., 0., 1., 1.],\n",
       "        [1., 0., 0., ..., 0., 1., 0.],\n",
       "        [0., 0., 1., ..., 1., 1., 0.],\n",
       "        ...,\n",
       "        [1., 0., 1., ..., 1., 1., 0.],\n",
       "        [1., 0., 1., ..., 1., 1., 0.],\n",
       "        [0., 0., 0., ..., 0., 0., 0.]],\n",
       "\n",
       "       [[0., 1., 0., ..., 0., 0., 1.],\n",
       "        [1., 0., 0., ..., 1., 1., 1.],\n",
       "        [0., 0., 1., ..., 0., 1., 1.],\n",
       "        ...,\n",
       "        [0., 0., 1., ..., 1., 0., 1.],\n",
       "        [1., 0., 1., ..., 0., 1., 1.],\n",
       "        [0., 1., 1., ..., 1., 0., 1.]],\n",
       "\n",
       "       [[1., 0., 1., ..., 1., 0., 0.],\n",
       "        [1., 0., 0., ..., 0., 1., 0.],\n",
       "        [1., 0., 1., ..., 1., 0., 1.],\n",
       "        ...,\n",
       "        [0., 1., 1., ..., 0., 1., 0.],\n",
       "        [1., 1., 0., ..., 1., 1., 0.],\n",
       "        [0., 0., 0., ..., 0., 1., 0.]],\n",
       "\n",
       "       [[0., 1., 0., ..., 0., 1., 1.],\n",
       "        [0., 1., 1., ..., 0., 1., 0.],\n",
       "        [0., 0., 1., ..., 1., 1., 1.],\n",
       "        ...,\n",
       "        [1., 1., 1., ..., 0., 0., 1.],\n",
       "        [0., 1., 1., ..., 1., 1., 0.],\n",
       "        [1., 1., 1., ..., 1., 1., 1.]],\n",
       "\n",
       "       [[1., 1., 1., ..., 0., 0., 0.],\n",
       "        [0., 0., 0., ..., 0., 1., 0.],\n",
       "        [0., 1., 0., ..., 0., 1., 0.],\n",
       "        ...,\n",
       "        [1., 1., 0., ..., 0., 0., 1.],\n",
       "        [1., 0., 1., ..., 1., 0., 0.],\n",
       "        [0., 0., 0., ..., 0., 0., 1.]]], dtype=float32)>"
      ]
     },
     "execution_count": 7,
     "metadata": {},
     "output_type": "execute_result"
    }
   ],
   "source": [
    "\n",
    "f = tf.minimum(tf.maximum(tf.constant(0.0, np.float32), tf.floor(arr)), tf.constant(15, np.float32))\n",
    "f[...,0]"
   ]
  },
  {
   "cell_type": "code",
   "execution_count": null,
   "metadata": {},
   "outputs": [],
   "source": []
  },
  {
   "cell_type": "code",
   "execution_count": null,
   "metadata": {},
   "outputs": [],
   "source": []
  },
  {
   "cell_type": "code",
   "execution_count": null,
   "metadata": {},
   "outputs": [],
   "source": []
  },
  {
   "cell_type": "code",
   "execution_count": null,
   "metadata": {},
   "outputs": [],
   "source": []
  },
  {
   "cell_type": "code",
   "execution_count": null,
   "metadata": {},
   "outputs": [],
   "source": []
  }
 ],
 "metadata": {
  "kernelspec": {
   "display_name": "Python 3",
   "language": "python",
   "name": "python3"
  },
  "language_info": {
   "codemirror_mode": {
    "name": "ipython",
    "version": 3
   },
   "file_extension": ".py",
   "mimetype": "text/x-python",
   "name": "python",
   "nbconvert_exporter": "python",
   "pygments_lexer": "ipython3",
   "version": "3.6.8"
  }
 },
 "nbformat": 4,
 "nbformat_minor": 2
}
