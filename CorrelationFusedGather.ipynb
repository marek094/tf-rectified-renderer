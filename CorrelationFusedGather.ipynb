{
 "cells": [
  {
   "cell_type": "markdown",
   "metadata": {},
   "source": [
    "##### Plan \n",
    "\n",
    "- show gradients of gather with feature correlation\n",
    "- write my own\n",
    "- test"
   ]
  },
  {
   "cell_type": "code",
   "execution_count": 18,
   "metadata": {},
   "outputs": [],
   "source": [
    "import os; os.environ['CUDA_VISIBLE_DEVICES'] = \"\"\n",
    "import numpy as np\n",
    "import tensorflow as tf\n",
    "import matplotlib.pyplot as plt\n",
    "from pathlib import Path\n",
    "from timeit import default_timer as timer"
   ]
  },
  {
   "cell_type": "code",
   "execution_count": 19,
   "metadata": {},
   "outputs": [],
   "source": [
    "sess = tf.Session()"
   ]
  },
  {
   "cell_type": "code",
   "execution_count": 20,
   "metadata": {
    "scrolled": true
   },
   "outputs": [
    {
     "data": {
      "text/plain": [
       "[array([[0.37454012, 0.9507143 , 0.7319939 ],\n",
       "        [0.5986585 , 0.15601864, 0.15599452],\n",
       "        [0.05808361, 0.8661761 , 0.601115  ],\n",
       "        [0.7080726 , 0.02058449, 0.96990985],\n",
       "        [0.83244264, 0.21233912, 0.18182497],\n",
       "        [0.1834045 , 0.30424225, 0.52475643],\n",
       "        [0.43194503, 0.29122913, 0.6118529 ],\n",
       "        [0.13949387, 0.29214466, 0.36636186],\n",
       "        [0.45606998, 0.785176  , 0.19967379],\n",
       "        [0.5142344 , 0.59241456, 0.04645041]], dtype=float32),\n",
       " array([[0.60754484, 0.17052412, 0.06505159],\n",
       "        [0.94888556, 0.965632  , 0.80839735],\n",
       "        [0.30461377, 0.09767211, 0.684233  ],\n",
       "        [0.4401525 , 0.12203824, 0.4951769 ],\n",
       "        [0.03438852, 0.9093204 , 0.25877997],\n",
       "        [0.66252226, 0.31171107, 0.52006805],\n",
       "        [0.54671025, 0.18485446, 0.96958464],\n",
       "        [0.77513283, 0.93949896, 0.89482737],\n",
       "        [0.5979    , 0.9218742 , 0.08849251],\n",
       "        [0.19598286, 0.04522729, 0.32533032]], dtype=float32),\n",
       " array([1, 4, 7, 9, 8, 8, 0, 8, 6, 8], dtype=int32)]"
      ]
     },
     "execution_count": 20,
     "metadata": {},
     "output_type": "execute_result"
    }
   ],
   "source": [
    "size=(10,3)\n",
    "np.random.seed(42)\n",
    "lf = tf.convert_to_tensor(np.random.rand(*size).astype(np.float32))\n",
    "rf = tf.convert_to_tensor(np.random.rand(*size).astype(np.float32))\n",
    "hi = tf.convert_to_tensor(np.random.randint(0, size[0], size=size[0]).astype(np.int32))\n",
    "sess.run([lf, rf, hi])"
   ]
  },
  {
   "cell_type": "code",
   "execution_count": 21,
   "metadata": {
    "scrolled": true
   },
   "outputs": [
    {
     "name": "stdout",
     "output_type": "stream",
     "text": [
      "op {\n",
      "  name: \"GatherCorr\"\n",
      "  input_arg {\n",
      "    name: \"params\"\n",
      "    type_attr: \"Tparams\"\n",
      "  }\n",
      "  input_arg {\n",
      "    name: \"indices\"\n",
      "    type_attr: \"Tindices\"\n",
      "  }\n",
      "  output_arg {\n",
      "    name: \"output\"\n",
      "    type_attr: \"Tparams\"\n",
      "  }\n",
      "  attr {\n",
      "    name: \"validate_indices\"\n",
      "    type: \"bool\"\n",
      "    default_value {\n",
      "      b: true\n",
      "    }\n",
      "  }\n",
      "  attr {\n",
      "    name: \"Tparams\"\n",
      "    type: \"type\"\n",
      "  }\n",
      "  attr {\n",
      "    name: \"Tindices\"\n",
      "    type: \"type\"\n",
      "    allowed_values {\n",
      "      list {\n",
      "        type: DT_INT32\n",
      "        type: DT_INT64\n",
      "      }\n",
      "    }\n",
      "  }\n",
      "}\n",
      "op {\n",
      "  name: \"GatherCorrV2\"\n",
      "  input_arg {\n",
      "    name: \"params\"\n",
      "    type_attr: \"Tparams\"\n",
      "  }\n",
      "  input_arg {\n",
      "    name: \"indices\"\n",
      "    type_attr: \"Tindices\"\n",
      "  }\n",
      "  input_arg {\n",
      "    name: \"axis\"\n",
      "    type_attr: \"Taxis\"\n",
      "  }\n",
      "  output_arg {\n",
      "    name: \"output\"\n",
      "    type_attr: \"Tparams\"\n",
      "  }\n",
      "  attr {\n",
      "    name: \"Tparams\"\n",
      "    type: \"type\"\n",
      "  }\n",
      "  attr {\n",
      "    name: \"Tindices\"\n",
      "    type: \"type\"\n",
      "    allowed_values {\n",
      "      list {\n",
      "        type: DT_INT32\n",
      "        type: DT_INT64\n",
      "      }\n",
      "    }\n",
      "  }\n",
      "  attr {\n",
      "    name: \"Taxis\"\n",
      "    type: \"type\"\n",
      "    allowed_values {\n",
      "      list {\n",
      "        type: DT_INT32\n",
      "        type: DT_INT64\n",
      "      }\n",
      "    }\n",
      "  }\n",
      "}\n",
      "\n"
     ]
    }
   ],
   "source": [
    "def composed(sparams, params, indices):\n",
    "    moved = tf.gather(params, indices)\n",
    "    corr = tf.reduce_sum(tf.multiply(sparams, moved), axis=1)\n",
    "    loss = tf.square(corr)\n",
    "    return loss\n",
    "\n",
    "lib = Path.home() / 'tensorflow/bazel-bin/tensorflow/core/user_ops/gather_corr.so'\n",
    "assert(lib.exists())\n",
    "gather_module = tf.load_op_library(str(lib))\n",
    "print(gather_module.OP_LIST)\n",
    "gather_corr = gather_module.gather_corr\n",
    "from gather_corr_grad import *\n",
    "\n",
    "def composed_new(sparams, params, indices):\n",
    "    moved = gather_corr(params, indices)\n",
    "    corr = tf.reduce_sum(tf.multiply(sparams, moved), axis=1)\n",
    "    loss = tf.square(corr)\n",
    "    return loss"
   ]
  },
  {
   "cell_type": "code",
   "execution_count": null,
   "metadata": {},
   "outputs": [],
   "source": []
  },
  {
   "cell_type": "code",
   "execution_count": 22,
   "metadata": {},
   "outputs": [
    {
     "data": {
      "text/plain": [
       "(array([0.35539571, 0.91804015, 0.59174193]), 1.8651777914224321)"
      ]
     },
     "execution_count": 22,
     "metadata": {},
     "output_type": "execute_result"
    }
   ],
   "source": [
    "m = np.multiply(np.array([0.37454012, 0.9507143 , 0.7319939 ]), np.array([0.94888556, 0.965632  , 0.80839735]))\n",
    "m, np.sum(m)"
   ]
  },
  {
   "cell_type": "code",
   "execution_count": 23,
   "metadata": {
    "scrolled": false
   },
   "outputs": [],
   "source": [
    "def run_example(lf, rf, hi, func, its=100):\n",
    "    seed = 0\n",
    "    np.random.seed(seed)\n",
    "    tf.set_random_seed(seed)\n",
    "    init = tf.initializers.random_normal(seed=0)\n",
    "    dlf1 = tf.layers.dense(lf, 100, kernel_initializer=init)\n",
    "    drf1 = tf.layers.dense(rf, 100, kernel_initializer=init)    \n",
    "    dlf1 = tf.layers.dense(dlf1, 100, kernel_initializer=init)\n",
    "    drf1 = tf.layers.dense(drf1, 100, kernel_initializer=init)\n",
    "    dhi1 = hi\n",
    "    loss1 = func(dlf1, drf1, dhi1)\n",
    "    opt1 = tf.train.AdamOptimizer(0.0001).minimize(loss1)\n",
    "    sess.run(tf.global_variables_initializer())\n",
    "    losses = []\n",
    "    for i in range(its):\n",
    "        d = sess.run({'opt1':opt1, 'loss1':loss1})\n",
    "        losses.append(d['loss1'])\n",
    "    return losses"
   ]
  },
  {
   "cell_type": "code",
   "execution_count": 24,
   "metadata": {},
   "outputs": [
    {
     "name": "stdout",
     "output_type": "stream",
     "text": [
      "534.0 945.5\n"
     ]
    }
   ],
   "source": [
    "res1 = run_example(lf, rf, hi, composed)\n",
    "res2 = run_example(lf, rf, hi, composed)\n",
    "res3 = run_example(lf, rf, hi, composed_new)\n",
    "\n",
    "\n",
    "prec = [[np.abs(x) for x in [a1-a2,a1-a3]] for i, (a1, a2, a3) in enumerate(zip(res1, res2, res3))]\n",
    "prec_ok, prec_asked = np.array(prec).sum(axis=2).sum(axis=0)\n",
    "print(prec_ok, prec_asked)"
   ]
  },
  {
   "cell_type": "code",
   "execution_count": null,
   "metadata": {},
   "outputs": [],
   "source": []
  },
  {
   "cell_type": "code",
   "execution_count": null,
   "metadata": {},
   "outputs": [],
   "source": []
  }
 ],
 "metadata": {
  "kernelspec": {
   "display_name": "Python 3",
   "language": "python",
   "name": "python3"
  },
  "language_info": {
   "codemirror_mode": {
    "name": "ipython",
    "version": 3
   },
   "file_extension": ".py",
   "mimetype": "text/x-python",
   "name": "python",
   "nbconvert_exporter": "python",
   "pygments_lexer": "ipython3",
   "version": "3.6.8"
  }
 },
 "nbformat": 4,
 "nbformat_minor": 2
}
